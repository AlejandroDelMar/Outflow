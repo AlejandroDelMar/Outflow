{
 "cells": [
  {
   "cell_type": "markdown",
   "id": "e9311c19",
   "metadata": {},
   "source": [
    "## Модель оттока клиентов"
   ]
  },
  {
   "cell_type": "code",
   "execution_count": 38,
   "id": "9d3400cd",
   "metadata": {},
   "outputs": [],
   "source": [
    "import numpy as np\n",
    "import pandas as pd\n",
    "import matplotlib.pyplot as plt\n",
    "import seaborn as sns"
   ]
  },
  {
   "cell_type": "markdown",
   "id": "d0672f24",
   "metadata": {},
   "source": [
    "### 1 Подготовка данных"
   ]
  },
  {
   "cell_type": "code",
   "execution_count": 19,
   "id": "5226eeda",
   "metadata": {},
   "outputs": [],
   "source": [
    "data = pd.read_csv('churn_train.txt', header=0, sep='\\t')"
   ]
  },
  {
   "cell_type": "code",
   "execution_count": 20,
   "id": "c4d8b681",
   "metadata": {},
   "outputs": [
    {
     "data": {
      "text/html": [
       "<div>\n",
       "<style scoped>\n",
       "    .dataframe tbody tr th:only-of-type {\n",
       "        vertical-align: middle;\n",
       "    }\n",
       "\n",
       "    .dataframe tbody tr th {\n",
       "        vertical-align: top;\n",
       "    }\n",
       "\n",
       "    .dataframe thead th {\n",
       "        text-align: right;\n",
       "    }\n",
       "</style>\n",
       "<table border=\"1\" class=\"dataframe\">\n",
       "  <thead>\n",
       "    <tr style=\"text-align: right;\">\n",
       "      <th></th>\n",
       "      <th>client_id</th>\n",
       "      <th>month_number</th>\n",
       "      <th>age</th>\n",
       "      <th>lifetime</th>\n",
       "      <th>beh_score</th>\n",
       "      <th>region</th>\n",
       "      <th>channel</th>\n",
       "      <th>avg_transaction_sum</th>\n",
       "      <th>total_products</th>\n",
       "      <th>deposit</th>\n",
       "      <th>is_package</th>\n",
       "      <th>salary_bucket</th>\n",
       "      <th>churn</th>\n",
       "    </tr>\n",
       "  </thead>\n",
       "  <tbody>\n",
       "    <tr>\n",
       "      <th>0</th>\n",
       "      <td>20201</td>\n",
       "      <td>2</td>\n",
       "      <td>38</td>\n",
       "      <td>21</td>\n",
       "      <td>2,73</td>\n",
       "      <td>Moscow</td>\n",
       "      <td>Online</td>\n",
       "      <td>345</td>\n",
       "      <td>1</td>\n",
       "      <td>1</td>\n",
       "      <td>1</td>\n",
       "      <td>70000.0</td>\n",
       "      <td>0</td>\n",
       "    </tr>\n",
       "    <tr>\n",
       "      <th>1</th>\n",
       "      <td>42943</td>\n",
       "      <td>2</td>\n",
       "      <td>30</td>\n",
       "      <td>21</td>\n",
       "      <td>2,80</td>\n",
       "      <td>Moscow</td>\n",
       "      <td>Branch</td>\n",
       "      <td>269</td>\n",
       "      <td>1</td>\n",
       "      <td>1</td>\n",
       "      <td>1</td>\n",
       "      <td>30000.0</td>\n",
       "      <td>0</td>\n",
       "    </tr>\n",
       "    <tr>\n",
       "      <th>2</th>\n",
       "      <td>27570</td>\n",
       "      <td>1</td>\n",
       "      <td>48</td>\n",
       "      <td>13</td>\n",
       "      <td>2,80</td>\n",
       "      <td>Regions</td>\n",
       "      <td>Online</td>\n",
       "      <td>327</td>\n",
       "      <td>1</td>\n",
       "      <td>1</td>\n",
       "      <td>1</td>\n",
       "      <td>150000.0</td>\n",
       "      <td>1</td>\n",
       "    </tr>\n",
       "    <tr>\n",
       "      <th>3</th>\n",
       "      <td>25037</td>\n",
       "      <td>3</td>\n",
       "      <td>40</td>\n",
       "      <td>15</td>\n",
       "      <td>2,68</td>\n",
       "      <td>Moscow</td>\n",
       "      <td>Online</td>\n",
       "      <td>0</td>\n",
       "      <td>1</td>\n",
       "      <td>1</td>\n",
       "      <td>1</td>\n",
       "      <td>30000.0</td>\n",
       "      <td>0</td>\n",
       "    </tr>\n",
       "    <tr>\n",
       "      <th>4</th>\n",
       "      <td>47546</td>\n",
       "      <td>2</td>\n",
       "      <td>20</td>\n",
       "      <td>21</td>\n",
       "      <td>2,88</td>\n",
       "      <td>Saint-Petersbourgh</td>\n",
       "      <td>Branch</td>\n",
       "      <td>0</td>\n",
       "      <td>1</td>\n",
       "      <td>1</td>\n",
       "      <td>0</td>\n",
       "      <td>190000.0</td>\n",
       "      <td>0</td>\n",
       "    </tr>\n",
       "  </tbody>\n",
       "</table>\n",
       "</div>"
      ],
      "text/plain": [
       "   client_id  month_number  age  lifetime beh_score              region  \\\n",
       "0      20201             2   38        21      2,73              Moscow   \n",
       "1      42943             2   30        21      2,80              Moscow   \n",
       "2      27570             1   48        13      2,80             Regions   \n",
       "3      25037             3   40        15      2,68              Moscow   \n",
       "4      47546             2   20        21      2,88  Saint-Petersbourgh   \n",
       "\n",
       "  channel  avg_transaction_sum  total_products  deposit  is_package  \\\n",
       "0  Online                  345               1        1           1   \n",
       "1  Branch                  269               1        1           1   \n",
       "2  Online                  327               1        1           1   \n",
       "3  Online                    0               1        1           1   \n",
       "4  Branch                    0               1        1           0   \n",
       "\n",
       "   salary_bucket  churn  \n",
       "0        70000.0      0  \n",
       "1        30000.0      0  \n",
       "2       150000.0      1  \n",
       "3        30000.0      0  \n",
       "4       190000.0      0  "
      ]
     },
     "execution_count": 20,
     "metadata": {},
     "output_type": "execute_result"
    }
   ],
   "source": [
    "data.head()"
   ]
  },
  {
   "cell_type": "code",
   "execution_count": 23,
   "id": "10ec7ccb",
   "metadata": {},
   "outputs": [
    {
     "name": "stdout",
     "output_type": "stream",
     "text": [
      "<class 'pandas.core.frame.DataFrame'>\n",
      "RangeIndex: 8305 entries, 0 to 8304\n",
      "Data columns (total 13 columns):\n",
      " #   Column               Non-Null Count  Dtype  \n",
      "---  ------               --------------  -----  \n",
      " 0   client_id            8305 non-null   int64  \n",
      " 1   month_number         8305 non-null   int64  \n",
      " 2   age                  8305 non-null   int64  \n",
      " 3   lifetime             8305 non-null   int64  \n",
      " 4   beh_score            8305 non-null   object \n",
      " 5   region               8305 non-null   object \n",
      " 6   channel              8305 non-null   object \n",
      " 7   avg_transaction_sum  8305 non-null   int64  \n",
      " 8   total_products       8305 non-null   int64  \n",
      " 9   deposit              8305 non-null   int64  \n",
      " 10  is_package           8305 non-null   int64  \n",
      " 11  salary_bucket        8304 non-null   float64\n",
      " 12  churn                8305 non-null   int64  \n",
      "dtypes: float64(1), int64(9), object(3)\n",
      "memory usage: 843.6+ KB\n"
     ]
    }
   ],
   "source": [
    "data.info()"
   ]
  },
  {
   "cell_type": "markdown",
   "id": "9450e626",
   "metadata": {},
   "source": [
    "Один пропуск данных имеются в одном столбце salary_bucket, удалим объект с недостающими данными"
   ]
  },
  {
   "cell_type": "code",
   "execution_count": 25,
   "id": "77ab0994",
   "metadata": {},
   "outputs": [
    {
     "data": {
      "text/plain": [
       "(8304, 13)"
      ]
     },
     "execution_count": 25,
     "metadata": {},
     "output_type": "execute_result"
    }
   ],
   "source": [
    "data_dropna = data.dropna()\n",
    "data_dropna.shape"
   ]
  },
  {
   "cell_type": "code",
   "execution_count": 26,
   "id": "f76632b9",
   "metadata": {},
   "outputs": [
    {
     "data": {
      "text/html": [
       "<div>\n",
       "<style scoped>\n",
       "    .dataframe tbody tr th:only-of-type {\n",
       "        vertical-align: middle;\n",
       "    }\n",
       "\n",
       "    .dataframe tbody tr th {\n",
       "        vertical-align: top;\n",
       "    }\n",
       "\n",
       "    .dataframe thead th {\n",
       "        text-align: right;\n",
       "    }\n",
       "</style>\n",
       "<table border=\"1\" class=\"dataframe\">\n",
       "  <thead>\n",
       "    <tr style=\"text-align: right;\">\n",
       "      <th></th>\n",
       "      <th>client_id</th>\n",
       "      <th>month_number</th>\n",
       "      <th>age</th>\n",
       "      <th>lifetime</th>\n",
       "      <th>avg_transaction_sum</th>\n",
       "      <th>total_products</th>\n",
       "      <th>deposit</th>\n",
       "      <th>is_package</th>\n",
       "      <th>salary_bucket</th>\n",
       "      <th>churn</th>\n",
       "    </tr>\n",
       "  </thead>\n",
       "  <tbody>\n",
       "    <tr>\n",
       "      <th>count</th>\n",
       "      <td>8304.000000</td>\n",
       "      <td>8304.000000</td>\n",
       "      <td>8304.000000</td>\n",
       "      <td>8304.000000</td>\n",
       "      <td>8304.000000</td>\n",
       "      <td>8304.000000</td>\n",
       "      <td>8304.000000</td>\n",
       "      <td>8304.000000</td>\n",
       "      <td>8304.000000</td>\n",
       "      <td>8304.000000</td>\n",
       "    </tr>\n",
       "    <tr>\n",
       "      <th>mean</th>\n",
       "      <td>30028.858382</td>\n",
       "      <td>2.001566</td>\n",
       "      <td>39.410886</td>\n",
       "      <td>17.026132</td>\n",
       "      <td>218.323699</td>\n",
       "      <td>1.534441</td>\n",
       "      <td>0.703998</td>\n",
       "      <td>0.517702</td>\n",
       "      <td>99926.541426</td>\n",
       "      <td>0.266739</td>\n",
       "    </tr>\n",
       "    <tr>\n",
       "      <th>std</th>\n",
       "      <td>11554.946075</td>\n",
       "      <td>0.810697</td>\n",
       "      <td>10.519758</td>\n",
       "      <td>2.897987</td>\n",
       "      <td>169.285964</td>\n",
       "      <td>0.579067</td>\n",
       "      <td>0.456519</td>\n",
       "      <td>0.499717</td>\n",
       "      <td>57532.939829</td>\n",
       "      <td>0.442281</td>\n",
       "    </tr>\n",
       "    <tr>\n",
       "      <th>min</th>\n",
       "      <td>10005.000000</td>\n",
       "      <td>1.000000</td>\n",
       "      <td>18.000000</td>\n",
       "      <td>12.000000</td>\n",
       "      <td>0.000000</td>\n",
       "      <td>1.000000</td>\n",
       "      <td>0.000000</td>\n",
       "      <td>0.000000</td>\n",
       "      <td>0.000000</td>\n",
       "      <td>0.000000</td>\n",
       "    </tr>\n",
       "    <tr>\n",
       "      <th>25%</th>\n",
       "      <td>20063.000000</td>\n",
       "      <td>1.000000</td>\n",
       "      <td>32.000000</td>\n",
       "      <td>15.000000</td>\n",
       "      <td>0.000000</td>\n",
       "      <td>1.000000</td>\n",
       "      <td>0.000000</td>\n",
       "      <td>0.000000</td>\n",
       "      <td>50000.000000</td>\n",
       "      <td>0.000000</td>\n",
       "    </tr>\n",
       "    <tr>\n",
       "      <th>50%</th>\n",
       "      <td>30066.500000</td>\n",
       "      <td>2.000000</td>\n",
       "      <td>38.000000</td>\n",
       "      <td>17.000000</td>\n",
       "      <td>311.000000</td>\n",
       "      <td>1.000000</td>\n",
       "      <td>1.000000</td>\n",
       "      <td>1.000000</td>\n",
       "      <td>100000.000000</td>\n",
       "      <td>0.000000</td>\n",
       "    </tr>\n",
       "    <tr>\n",
       "      <th>75%</th>\n",
       "      <td>39735.750000</td>\n",
       "      <td>3.000000</td>\n",
       "      <td>44.000000</td>\n",
       "      <td>20.000000</td>\n",
       "      <td>358.000000</td>\n",
       "      <td>2.000000</td>\n",
       "      <td>1.000000</td>\n",
       "      <td>1.000000</td>\n",
       "      <td>150000.000000</td>\n",
       "      <td>1.000000</td>\n",
       "    </tr>\n",
       "    <tr>\n",
       "      <th>max</th>\n",
       "      <td>49997.000000</td>\n",
       "      <td>3.000000</td>\n",
       "      <td>92.000000</td>\n",
       "      <td>22.000000</td>\n",
       "      <td>501.000000</td>\n",
       "      <td>4.000000</td>\n",
       "      <td>1.000000</td>\n",
       "      <td>1.000000</td>\n",
       "      <td>200000.000000</td>\n",
       "      <td>1.000000</td>\n",
       "    </tr>\n",
       "  </tbody>\n",
       "</table>\n",
       "</div>"
      ],
      "text/plain": [
       "          client_id  month_number          age     lifetime  \\\n",
       "count   8304.000000   8304.000000  8304.000000  8304.000000   \n",
       "mean   30028.858382      2.001566    39.410886    17.026132   \n",
       "std    11554.946075      0.810697    10.519758     2.897987   \n",
       "min    10005.000000      1.000000    18.000000    12.000000   \n",
       "25%    20063.000000      1.000000    32.000000    15.000000   \n",
       "50%    30066.500000      2.000000    38.000000    17.000000   \n",
       "75%    39735.750000      3.000000    44.000000    20.000000   \n",
       "max    49997.000000      3.000000    92.000000    22.000000   \n",
       "\n",
       "       avg_transaction_sum  total_products      deposit   is_package  \\\n",
       "count          8304.000000     8304.000000  8304.000000  8304.000000   \n",
       "mean            218.323699        1.534441     0.703998     0.517702   \n",
       "std             169.285964        0.579067     0.456519     0.499717   \n",
       "min               0.000000        1.000000     0.000000     0.000000   \n",
       "25%               0.000000        1.000000     0.000000     0.000000   \n",
       "50%             311.000000        1.000000     1.000000     1.000000   \n",
       "75%             358.000000        2.000000     1.000000     1.000000   \n",
       "max             501.000000        4.000000     1.000000     1.000000   \n",
       "\n",
       "       salary_bucket        churn  \n",
       "count    8304.000000  8304.000000  \n",
       "mean    99926.541426     0.266739  \n",
       "std     57532.939829     0.442281  \n",
       "min         0.000000     0.000000  \n",
       "25%     50000.000000     0.000000  \n",
       "50%    100000.000000     0.000000  \n",
       "75%    150000.000000     1.000000  \n",
       "max    200000.000000     1.000000  "
      ]
     },
     "execution_count": 26,
     "metadata": {},
     "output_type": "execute_result"
    }
   ],
   "source": [
    "data_dropna.describe()"
   ]
  },
  {
   "cell_type": "code",
   "execution_count": 29,
   "id": "7a13ab18",
   "metadata": {},
   "outputs": [
    {
     "data": {
      "text/plain": [
       "array(['Moscow', 'Regions', 'Saint-Petersbourgh'], dtype=object)"
      ]
     },
     "execution_count": 29,
     "metadata": {},
     "output_type": "execute_result"
    }
   ],
   "source": [
    "data_dropna.region.unique()"
   ]
  },
  {
   "cell_type": "code",
   "execution_count": 30,
   "id": "9d7ee40a",
   "metadata": {},
   "outputs": [
    {
     "data": {
      "text/plain": [
       "client_id              7496\n",
       "month_number              3\n",
       "age                      36\n",
       "lifetime                 11\n",
       "beh_score                39\n",
       "region                    3\n",
       "channel                   2\n",
       "avg_transaction_sum     282\n",
       "total_products            4\n",
       "deposit                   2\n",
       "is_package                2\n",
       "salary_bucket            21\n",
       "churn                     2\n",
       "dtype: int64"
      ]
     },
     "execution_count": 30,
     "metadata": {},
     "output_type": "execute_result"
    }
   ],
   "source": [
    "data_dropna.nunique()"
   ]
  },
  {
   "cell_type": "code",
   "execution_count": 33,
   "id": "cb3bafc4",
   "metadata": {},
   "outputs": [
    {
     "data": {
      "text/plain": [
       "Moscow                4163\n",
       "Regions               2075\n",
       "Saint-Petersbourgh    2066\n",
       "Name: region, dtype: int64"
      ]
     },
     "execution_count": 33,
     "metadata": {},
     "output_type": "execute_result"
    }
   ],
   "source": [
    "data_dropna['region'].value_counts()"
   ]
  },
  {
   "cell_type": "code",
   "execution_count": 35,
   "id": "4731b671",
   "metadata": {},
   "outputs": [
    {
     "data": {
      "text/plain": [
       "0    6089\n",
       "1    2215\n",
       "Name: churn, dtype: int64"
      ]
     },
     "execution_count": 35,
     "metadata": {},
     "output_type": "execute_result"
    }
   ],
   "source": [
    "data_dropna['churn'].value_counts()"
   ]
  },
  {
   "cell_type": "markdown",
   "id": "ba14aba3",
   "metadata": {},
   "source": [
    "Средний возраст клиентов составляет около 39.5 лет. Процент оттока клиентов составил 36%"
   ]
  },
  {
   "cell_type": "code",
   "execution_count": 43,
   "id": "78b9ea7e",
   "metadata": {},
   "outputs": [
    {
     "data": {
      "image/png": "[encoded data removed]",
      "text/plain": [
       "<Figure size 434.125x360 with 1 Axes>"
      ]
     },
     "metadata": {
      "needs_background": "light"
     },
     "output_type": "display_data"
    }
   ],
   "source": [
    "sns.displot(\n",
    "    {\n",
    "        \"churn 0\": data_dropna[data_dropna.churn == 0].age,\n",
    "        \"churn 1\": data_dropna[data_dropna.churn == 1].age\n",
    "    },\n",
    "    kind=\"kde\",\n",
    "    common_norm=False\n",
    ")\n",
    "\n",
    "plt.title('Age', fontsize=20)\n",
    "plt.xlabel('Age', fontsize=14)\n",
    "plt.ylabel('Density', fontsize=14)\n",
    "\n",
    "plt.xticks(fontsize=14)\n",
    "plt.yticks(fontsize=14);"
   ]
  },
  {
   "cell_type": "markdown",
   "id": "6801af3f",
   "metadata": {},
   "source": [
    "Возрасть ушедших клиентов смещен в большую сторону относительно возраста лояльных клиентов "
   ]
  },
  {
   "cell_type": "markdown",
   "id": "a7caafbd",
   "metadata": {},
   "source": [
    "Отбросим несущественные (на первый взгляд) признаки и воспользуемся minmaxscaler'ом для числовых признаков и OneHotEncoder для категориальных"
   ]
  },
  {
   "cell_type": "code",
   "execution_count": 69,
   "id": "9fb03a2e",
   "metadata": {},
   "outputs": [],
   "source": [
    "data2 = data_dropna.drop(columns = ['client_id'])\n",
    "data3 = data2.drop(columns = ['month_number'])"
   ]
  },
  {
   "cell_type": "code",
   "execution_count": 71,
   "id": "007c686c",
   "metadata": {},
   "outputs": [],
   "source": [
    "data3['beh_score'] = [x.replace(',', '.') for x in data3['beh_score']]\n",
    "data3['beh_score'] = data3['beh_score'].astype(float)"
   ]
  },
  {
   "cell_type": "code",
   "execution_count": 74,
   "id": "0b8cbd53",
   "metadata": {},
   "outputs": [
    {
     "data": {
      "text/html": [
       "<div>\n",
       "<style scoped>\n",
       "    .dataframe tbody tr th:only-of-type {\n",
       "        vertical-align: middle;\n",
       "    }\n",
       "\n",
       "    .dataframe tbody tr th {\n",
       "        vertical-align: top;\n",
       "    }\n",
       "\n",
       "    .dataframe thead th {\n",
       "        text-align: right;\n",
       "    }\n",
       "</style>\n",
       "<table border=\"1\" class=\"dataframe\">\n",
       "  <thead>\n",
       "    <tr style=\"text-align: right;\">\n",
       "      <th></th>\n",
       "      <th>age</th>\n",
       "      <th>lifetime</th>\n",
       "      <th>beh_score</th>\n",
       "      <th>region</th>\n",
       "      <th>channel</th>\n",
       "      <th>avg_transaction_sum</th>\n",
       "      <th>total_products</th>\n",
       "      <th>deposit</th>\n",
       "      <th>is_package</th>\n",
       "      <th>salary_bucket</th>\n",
       "      <th>churn</th>\n",
       "    </tr>\n",
       "  </thead>\n",
       "  <tbody>\n",
       "    <tr>\n",
       "      <th>0</th>\n",
       "      <td>38</td>\n",
       "      <td>21</td>\n",
       "      <td>2.73</td>\n",
       "      <td>Moscow</td>\n",
       "      <td>Online</td>\n",
       "      <td>345</td>\n",
       "      <td>1</td>\n",
       "      <td>1</td>\n",
       "      <td>1</td>\n",
       "      <td>70000.0</td>\n",
       "      <td>0</td>\n",
       "    </tr>\n",
       "    <tr>\n",
       "      <th>1</th>\n",
       "      <td>30</td>\n",
       "      <td>21</td>\n",
       "      <td>2.80</td>\n",
       "      <td>Moscow</td>\n",
       "      <td>Branch</td>\n",
       "      <td>269</td>\n",
       "      <td>1</td>\n",
       "      <td>1</td>\n",
       "      <td>1</td>\n",
       "      <td>30000.0</td>\n",
       "      <td>0</td>\n",
       "    </tr>\n",
       "    <tr>\n",
       "      <th>2</th>\n",
       "      <td>48</td>\n",
       "      <td>13</td>\n",
       "      <td>2.80</td>\n",
       "      <td>Regions</td>\n",
       "      <td>Online</td>\n",
       "      <td>327</td>\n",
       "      <td>1</td>\n",
       "      <td>1</td>\n",
       "      <td>1</td>\n",
       "      <td>150000.0</td>\n",
       "      <td>1</td>\n",
       "    </tr>\n",
       "    <tr>\n",
       "      <th>3</th>\n",
       "      <td>40</td>\n",
       "      <td>15</td>\n",
       "      <td>2.68</td>\n",
       "      <td>Moscow</td>\n",
       "      <td>Online</td>\n",
       "      <td>0</td>\n",
       "      <td>1</td>\n",
       "      <td>1</td>\n",
       "      <td>1</td>\n",
       "      <td>30000.0</td>\n",
       "      <td>0</td>\n",
       "    </tr>\n",
       "    <tr>\n",
       "      <th>4</th>\n",
       "      <td>20</td>\n",
       "      <td>21</td>\n",
       "      <td>2.88</td>\n",
       "      <td>Saint-Petersbourgh</td>\n",
       "      <td>Branch</td>\n",
       "      <td>0</td>\n",
       "      <td>1</td>\n",
       "      <td>1</td>\n",
       "      <td>0</td>\n",
       "      <td>190000.0</td>\n",
       "      <td>0</td>\n",
       "    </tr>\n",
       "  </tbody>\n",
       "</table>\n",
       "</div>"
      ],
      "text/plain": [
       "   age  lifetime  beh_score              region channel  avg_transaction_sum  \\\n",
       "0   38        21       2.73              Moscow  Online                  345   \n",
       "1   30        21       2.80              Moscow  Branch                  269   \n",
       "2   48        13       2.80             Regions  Online                  327   \n",
       "3   40        15       2.68              Moscow  Online                    0   \n",
       "4   20        21       2.88  Saint-Petersbourgh  Branch                    0   \n",
       "\n",
       "   total_products  deposit  is_package  salary_bucket  churn  \n",
       "0               1        1           1        70000.0      0  \n",
       "1               1        1           1        30000.0      0  \n",
       "2               1        1           1       150000.0      1  \n",
       "3               1        1           1        30000.0      0  \n",
       "4               1        1           0       190000.0      0  "
      ]
     },
     "execution_count": 74,
     "metadata": {},
     "output_type": "execute_result"
    }
   ],
   "source": [
    "data3.head()"
   ]
  },
  {
   "cell_type": "code",
   "execution_count": 75,
   "id": "e869a71d",
   "metadata": {},
   "outputs": [],
   "source": [
    "from sklearn.preprocessing import OneHotEncoder\n",
    "from sklearn.preprocessing import MinMaxScaler\n",
    "from sklearn.model_selection import train_test_split"
   ]
  },
  {
   "cell_type": "code",
   "execution_count": 76,
   "id": "1001c73c",
   "metadata": {},
   "outputs": [
    {
     "data": {
      "text/plain": [
       "((8304,), (8304, 10))"
      ]
     },
     "execution_count": 76,
     "metadata": {},
     "output_type": "execute_result"
    }
   ],
   "source": [
    "y = data3['churn']\n",
    "X = data3.drop(columns = ['churn'])\n",
    "y.shape, X.shape"
   ]
  },
  {
   "cell_type": "code",
   "execution_count": 77,
   "id": "56a9ae48",
   "metadata": {},
   "outputs": [],
   "source": [
    "X_train, X_test, y_train, y_test = train_test_split(X, y, test_size=0.25, random_state=13, \n",
    "                                                    shuffle = True, stratify = y)"
   ]
  },
  {
   "cell_type": "code",
   "execution_count": 86,
   "id": "88e383e9",
   "metadata": {},
   "outputs": [],
   "source": [
    "X_train_num = X_train.select_dtypes(exclude = 'object')\n",
    "X_train_cat = X_train.select_dtypes(include = 'object')"
   ]
  },
  {
   "cell_type": "code",
   "execution_count": 94,
   "id": "683a42cd",
   "metadata": {},
   "outputs": [],
   "source": [
    "scaler = MinMaxScaler()\n",
    "X_train_sc = scaler.fit_transform(X_train_num)\n",
    "X_train_scal = pd.DataFrame(X_train_sc, columns=list(X_train_num.columns.values), index=list(X_train_num.index))\n",
    "X_train_scal['ind'] = X_train_scal.index"
   ]
  },
  {
   "cell_type": "code",
   "execution_count": 98,
   "id": "ef28f737",
   "metadata": {},
   "outputs": [],
   "source": [
    "dummies = OneHotEncoder(sparse=False)\n",
    "data_dummies_train = dummies.fit_transform(X_train_cat)\n",
    "X_train_dum = pd.DataFrame(data_dummies_train, index=list(X_train_cat.index))\n",
    "X_train_dum['ind'] = X_train_dum.index"
   ]
  },
  {
   "cell_type": "code",
   "execution_count": 106,
   "id": "92303ff4",
   "metadata": {},
   "outputs": [],
   "source": [
    "X_train_merge = pd.merge(X_train_scal, X_train_dum, how = 'inner', on ='ind')\n",
    "X_train_fin = X_train_merge.drop(columns=['ind'])"
   ]
  },
  {
   "cell_type": "code",
   "execution_count": 108,
   "id": "a17a6a35",
   "metadata": {},
   "outputs": [],
   "source": [
    "X_test_num = X_test.select_dtypes(exclude = 'object')\n",
    "X_test_cat = X_test.select_dtypes(include = 'object')"
   ]
  },
  {
   "cell_type": "code",
   "execution_count": 109,
   "id": "b0ecfbcd",
   "metadata": {},
   "outputs": [],
   "source": [
    "X_test_sc = scaler.transform(X_test_num)\n",
    "X_test_scal = pd.DataFrame(X_test_sc, columns=list(X_test_num.columns.values), index=list(X_test_num.index))\n",
    "X_test_scal['ind'] = X_test_scal.index"
   ]
  },
  {
   "cell_type": "code",
   "execution_count": 110,
   "id": "d97382d0",
   "metadata": {},
   "outputs": [],
   "source": [
    "data_dummies_test = dummies.transform(X_test_cat)\n",
    "X_test_dum = pd.DataFrame(data_dummies_test, index=list(X_test_cat.index))\n",
    "X_test_dum['ind'] = X_test_dum.index"
   ]
  },
  {
   "cell_type": "code",
   "execution_count": 111,
   "id": "a15d37e9",
   "metadata": {},
   "outputs": [],
   "source": [
    "X_test_merge = pd.merge(X_test_scal, X_test_dum, how = 'inner', on ='ind')\n",
    "X_test_fin = X_test_merge.drop(columns=['ind'])"
   ]
  },
  {
   "cell_type": "markdown",
   "id": "ac396a5a",
   "metadata": {},
   "source": [
    "### Моделирование"
   ]
  },
  {
   "cell_type": "code",
   "execution_count": 117,
   "id": "bbe7203e",
   "metadata": {},
   "outputs": [],
   "source": [
    "from sklearn.linear_model import LogisticRegression\n",
    "from sklearn.model_selection import cross_validate\n",
    "from sklearn.ensemble import GradientBoostingClassifier\n",
    "from sklearn.metrics import precision_score, recall_score, auc, accuracy_score, roc_auc_score,f1_score,log_loss,\\\n",
    "classification_report, roc_curve"
   ]
  },
  {
   "cell_type": "markdown",
   "id": "6478cf0f",
   "metadata": {},
   "source": [
    "Если банку нужно предсказать больше уходящих клиентов, то лучше ориентироваться на  recall, если нужно более точно определить нелояльного клиента, то precision."
   ]
  },
  {
   "cell_type": "code",
   "execution_count": 116,
   "id": "6ba1dc0b",
   "metadata": {},
   "outputs": [],
   "source": [
    "logreg = LogisticRegression(class_weight = 'balanced')\n",
    "logreg.fit(X_train_fin, y_train)\n",
    "\n",
    "y_pred = logreg.predict(X_test_fin)\n",
    "y_score = logreg.predict_proba(X_test_fin)[:,1]"
   ]
  },
  {
   "cell_type": "code",
   "execution_count": 118,
   "id": "67a6f745",
   "metadata": {},
   "outputs": [
    {
     "name": "stdout",
     "output_type": "stream",
     "text": [
      "precision: 0.37857142857142856\n",
      "recall: 0.5740072202166066\n"
     ]
    }
   ],
   "source": [
    "print('precision:', precision_score(y_test, y_pred))\n",
    "print('recall:', recall_score(y_test, y_pred))"
   ]
  },
  {
   "cell_type": "code",
   "execution_count": 119,
   "id": "8c717f05",
   "metadata": {},
   "outputs": [
    {
     "data": {
      "image/png": "[encoded data removed]",
      "text/plain": [
       "<Figure size 432x288 with 1 Axes>"
      ]
     },
     "metadata": {
      "needs_background": "light"
     },
     "output_type": "display_data"
    }
   ],
   "source": [
    "fpr, tpr, thresholds = roc_curve(y_test, y_score)\n",
    "\n",
    "roc_auc = auc(fpr, tpr)\n",
    "\n",
    "plt.plot(fpr, tpr, color='darkorange', label='ROC curve (area = %0.2f)' % roc_auc)\n",
    "plt.plot([0, 1], [0, 1], color='navy', lw=2, linestyle='--')\n",
    "plt.xlim([0.0, 1.0])\n",
    "plt.ylim([0.0, 1.05])\n",
    "\n",
    "plt.xlabel('False Positive Rate')\n",
    "plt.ylabel('True Positive Rate')\n",
    "\n",
    "plt.title('Logistic Regression ROC AUC = %0.3f' % roc_auc)\n",
    "plt.legend(loc=\"lower right\")\n",
    "plt.show()"
   ]
  },
  {
   "cell_type": "code",
   "execution_count": 120,
   "id": "11604ef2",
   "metadata": {},
   "outputs": [
    {
     "name": "stdout",
     "output_type": "stream",
     "text": [
      "Precision на тесте: 0.7604166666666666\n",
      "Recall на тесте: 0.26353790613718414\n"
     ]
    }
   ],
   "source": [
    "gradboo = GradientBoostingClassifier(n_estimators=200,max_depth=1)\n",
    "gradboo.fit(X_train_fin, y_train)\n",
    "y_pred = gradboo.predict(X_test_fin)\n",
    "print('Precision на тесте:', precision_score(y_test, y_pred))\n",
    "print('Recall на тесте:', recall_score(y_test, y_pred))"
   ]
  },
  {
   "cell_type": "code",
   "execution_count": 122,
   "id": "e8a62081",
   "metadata": {},
   "outputs": [],
   "source": [
    "y_score = gradboo.predict_proba(X_test_fin)[:,1]"
   ]
  },
  {
   "cell_type": "code",
   "execution_count": 123,
   "id": "352b1cb9",
   "metadata": {},
   "outputs": [
    {
     "data": {
      "image/png": "[encoded data removed]",
      "text/plain": [
       "<Figure size 432x288 with 1 Axes>"
      ]
     },
     "metadata": {
      "needs_background": "light"
     },
     "output_type": "display_data"
    }
   ],
   "source": [
    "fpr, tpr, thresholds = roc_curve(y_test, y_score)\n",
    "\n",
    "roc_auc = auc(fpr, tpr)\n",
    "\n",
    "plt.plot(fpr, tpr, color='darkorange', label='ROC curve (area = %0.2f)' % roc_auc)\n",
    "plt.plot([0, 1], [0, 1], color='navy', lw=2, linestyle='--')\n",
    "plt.xlim([0.0, 1.0])\n",
    "plt.ylim([0.0, 1.05])\n",
    "\n",
    "plt.xlabel('False Positive Rate')\n",
    "plt.ylabel('True Positive Rate')\n",
    "\n",
    "plt.title('Logistic Regression ROC AUC = %0.3f' % roc_auc)\n",
    "plt.legend(loc=\"lower right\")\n",
    "plt.show()"
   ]
  },
  {
   "cell_type": "markdown",
   "id": "600c0dc9",
   "metadata": {},
   "source": [
    "Модель на основе лог. регрессии показала более высокий recall, градиентный бустинг имеет более высокий precision.\n",
    "Для бустинга scaler использовать было не обязательно, а в случае применения, например catboost, можно было не кодировать и категориальные признаки."
   ]
  },
  {
   "cell_type": "markdown",
   "id": "26b51a4e",
   "metadata": {},
   "source": [
    "### Профиль склонного к оттоку клиента"
   ]
  },
  {
   "cell_type": "markdown",
   "id": "13f64dab",
   "metadata": {},
   "source": [
    "Клиент, склонный к оттоку, имеет средний возраст около 43 лет(выше возраста всех клиентов), среднюю сумму транзакции больше, чем у среднего клиента, и, если я правильно интерпретировал значение признака 'is_package', меньшую вероятность того, что у него подключен пакет услуг банка."
   ]
  }
 ],
 "metadata": {
  "kernelspec": {
   "display_name": "Python 3 (ipykernel)",
   "language": "python",
   "name": "python3"
  },
  "language_info": {
   "codemirror_mode": {
    "name": "ipython",
    "version": 3
   },
   "file_extension": ".py",
   "mimetype": "text/x-python",
   "name": "python",
   "nbconvert_exporter": "python",
   "pygments_lexer": "ipython3",
   "version": "3.9.7"
  }
 },
 "nbformat": 4,
 "nbformat_minor": 5
}
